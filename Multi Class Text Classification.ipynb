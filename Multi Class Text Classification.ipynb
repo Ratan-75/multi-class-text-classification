{
 "cells": [
  {
   "cell_type": "code",
   "execution_count": 1,
   "metadata": {},
   "outputs": [],
   "source": [
    "import pandas as pd"
   ]
  },
  {
   "cell_type": "code",
   "execution_count": 2,
   "metadata": {},
   "outputs": [],
   "source": [
    "df = pd.read_csv(\"SWDataSet.csv\")"
   ]
  },
  {
   "cell_type": "code",
   "execution_count": 3,
   "metadata": {},
   "outputs": [
    {
     "data": {
      "text/html": [
       "<div>\n",
       "<style scoped>\n",
       "    .dataframe tbody tr th:only-of-type {\n",
       "        vertical-align: middle;\n",
       "    }\n",
       "\n",
       "    .dataframe tbody tr th {\n",
       "        vertical-align: top;\n",
       "    }\n",
       "\n",
       "    .dataframe thead th {\n",
       "        text-align: right;\n",
       "    }\n",
       "</style>\n",
       "<table border=\"1\" class=\"dataframe\">\n",
       "  <thead>\n",
       "    <tr style=\"text-align: right;\">\n",
       "      <th></th>\n",
       "      <th>Product</th>\n",
       "      <th>Description</th>\n",
       "      <th>Category</th>\n",
       "    </tr>\n",
       "  </thead>\n",
       "  <tbody>\n",
       "    <tr>\n",
       "      <th>0</th>\n",
       "      <td>Memtest86+</td>\n",
       "      <td>Protect your memory from errors and failure.</td>\n",
       "      <td>Utilities</td>\n",
       "    </tr>\n",
       "    <tr>\n",
       "      <th>1</th>\n",
       "      <td>Contenta Converter Basic</td>\n",
       "      <td>Convert, rename, and organize your photos.</td>\n",
       "      <td>Photography</td>\n",
       "    </tr>\n",
       "    <tr>\n",
       "      <th>2</th>\n",
       "      <td>Windows USB/DVD Download Tool</td>\n",
       "      <td>Create a copy of your Windows ISO file on remo...</td>\n",
       "      <td>Utilities</td>\n",
       "    </tr>\n",
       "    <tr>\n",
       "      <th>3</th>\n",
       "      <td>SMS Mac</td>\n",
       "      <td>Send SMS text messages from your Mac.</td>\n",
       "      <td>Communication</td>\n",
       "    </tr>\n",
       "    <tr>\n",
       "      <th>4</th>\n",
       "      <td>Disk Doctors Email Recovery</td>\n",
       "      <td>Recover and repair Outlook Express e-mail mess...</td>\n",
       "      <td>Communication</td>\n",
       "    </tr>\n",
       "    <tr>\n",
       "      <th>5</th>\n",
       "      <td>Yoono for Chrome</td>\n",
       "      <td>Keep all your social networks and IM services ...</td>\n",
       "      <td>Browser</td>\n",
       "    </tr>\n",
       "    <tr>\n",
       "      <th>6</th>\n",
       "      <td>AutoKrypt</td>\n",
       "      <td>Encrypt and decrypt files and folders automati...</td>\n",
       "      <td>Security</td>\n",
       "    </tr>\n",
       "    <tr>\n",
       "      <th>7</th>\n",
       "      <td>Altdo Video to MP4 Converter</td>\n",
       "      <td>Convert video files to MP4 format.</td>\n",
       "      <td>Video</td>\n",
       "    </tr>\n",
       "    <tr>\n",
       "      <th>8</th>\n",
       "      <td>Arcai.com's NetCut Defender</td>\n",
       "      <td>Protect ARP cache and keep Internet connection...</td>\n",
       "      <td>Security</td>\n",
       "    </tr>\n",
       "    <tr>\n",
       "      <th>9</th>\n",
       "      <td>Yousendit</td>\n",
       "      <td>Send and receive digital files.</td>\n",
       "      <td>Internet Software</td>\n",
       "    </tr>\n",
       "    <tr>\n",
       "      <th>10</th>\n",
       "      <td>PDF Postman for Outlook</td>\n",
       "      <td>Deliver your Outlook e-mail messages and file ...</td>\n",
       "      <td>Communication</td>\n",
       "    </tr>\n",
       "    <tr>\n",
       "      <th>11</th>\n",
       "      <td>GIF Player</td>\n",
       "      <td>View and play animated GIF files.</td>\n",
       "      <td>Photography</td>\n",
       "    </tr>\n",
       "  </tbody>\n",
       "</table>\n",
       "</div>"
      ],
      "text/plain": [
       "                          Product  \\\n",
       "0                      Memtest86+   \n",
       "1        Contenta Converter Basic   \n",
       "2   Windows USB/DVD Download Tool   \n",
       "3                         SMS Mac   \n",
       "4     Disk Doctors Email Recovery   \n",
       "5                Yoono for Chrome   \n",
       "6                       AutoKrypt   \n",
       "7    Altdo Video to MP4 Converter   \n",
       "8     Arcai.com's NetCut Defender   \n",
       "9                       Yousendit   \n",
       "10        PDF Postman for Outlook   \n",
       "11                     GIF Player   \n",
       "\n",
       "                                          Description           Category  \n",
       "0        Protect your memory from errors and failure.          Utilities  \n",
       "1          Convert, rename, and organize your photos.        Photography  \n",
       "2   Create a copy of your Windows ISO file on remo...          Utilities  \n",
       "3               Send SMS text messages from your Mac.      Communication  \n",
       "4   Recover and repair Outlook Express e-mail mess...      Communication  \n",
       "5   Keep all your social networks and IM services ...            Browser  \n",
       "6   Encrypt and decrypt files and folders automati...           Security  \n",
       "7                  Convert video files to MP4 format.              Video  \n",
       "8   Protect ARP cache and keep Internet connection...           Security  \n",
       "9                     Send and receive digital files.  Internet Software  \n",
       "10  Deliver your Outlook e-mail messages and file ...      Communication  \n",
       "11                  View and play animated GIF files.        Photography  "
      ]
     },
     "execution_count": 3,
     "metadata": {},
     "output_type": "execute_result"
    }
   ],
   "source": [
    "df.head(12)"
   ]
  },
  {
   "cell_type": "code",
   "execution_count": 5,
   "metadata": {},
   "outputs": [
    {
     "data": {
      "text/plain": [
       "(15236, 3)"
      ]
     },
     "execution_count": 5,
     "metadata": {},
     "output_type": "execute_result"
    }
   ],
   "source": [
    "df.shape"
   ]
  },
  {
   "cell_type": "code",
   "execution_count": 6,
   "metadata": {},
   "outputs": [],
   "source": [
    "df[\"Category_id\"] = df['Category'].factorize()[0]"
   ]
  },
  {
   "cell_type": "code",
   "execution_count": 7,
   "metadata": {},
   "outputs": [
    {
     "data": {
      "text/html": [
       "<div>\n",
       "<style scoped>\n",
       "    .dataframe tbody tr th:only-of-type {\n",
       "        vertical-align: middle;\n",
       "    }\n",
       "\n",
       "    .dataframe tbody tr th {\n",
       "        vertical-align: top;\n",
       "    }\n",
       "\n",
       "    .dataframe thead th {\n",
       "        text-align: right;\n",
       "    }\n",
       "</style>\n",
       "<table border=\"1\" class=\"dataframe\">\n",
       "  <thead>\n",
       "    <tr style=\"text-align: right;\">\n",
       "      <th></th>\n",
       "      <th>Product</th>\n",
       "      <th>Description</th>\n",
       "      <th>Category</th>\n",
       "      <th>Category_id</th>\n",
       "    </tr>\n",
       "  </thead>\n",
       "  <tbody>\n",
       "    <tr>\n",
       "      <th>0</th>\n",
       "      <td>Memtest86+</td>\n",
       "      <td>Protect your memory from errors and failure.</td>\n",
       "      <td>Utilities</td>\n",
       "      <td>0</td>\n",
       "    </tr>\n",
       "    <tr>\n",
       "      <th>1</th>\n",
       "      <td>Contenta Converter Basic</td>\n",
       "      <td>Convert, rename, and organize your photos.</td>\n",
       "      <td>Photography</td>\n",
       "      <td>1</td>\n",
       "    </tr>\n",
       "    <tr>\n",
       "      <th>2</th>\n",
       "      <td>Windows USB/DVD Download Tool</td>\n",
       "      <td>Create a copy of your Windows ISO file on remo...</td>\n",
       "      <td>Utilities</td>\n",
       "      <td>0</td>\n",
       "    </tr>\n",
       "    <tr>\n",
       "      <th>3</th>\n",
       "      <td>SMS Mac</td>\n",
       "      <td>Send SMS text messages from your Mac.</td>\n",
       "      <td>Communication</td>\n",
       "      <td>2</td>\n",
       "    </tr>\n",
       "    <tr>\n",
       "      <th>4</th>\n",
       "      <td>Disk Doctors Email Recovery</td>\n",
       "      <td>Recover and repair Outlook Express e-mail mess...</td>\n",
       "      <td>Communication</td>\n",
       "      <td>2</td>\n",
       "    </tr>\n",
       "    <tr>\n",
       "      <th>5</th>\n",
       "      <td>Yoono for Chrome</td>\n",
       "      <td>Keep all your social networks and IM services ...</td>\n",
       "      <td>Browser</td>\n",
       "      <td>3</td>\n",
       "    </tr>\n",
       "    <tr>\n",
       "      <th>6</th>\n",
       "      <td>AutoKrypt</td>\n",
       "      <td>Encrypt and decrypt files and folders automati...</td>\n",
       "      <td>Security</td>\n",
       "      <td>4</td>\n",
       "    </tr>\n",
       "    <tr>\n",
       "      <th>7</th>\n",
       "      <td>Altdo Video to MP4 Converter</td>\n",
       "      <td>Convert video files to MP4 format.</td>\n",
       "      <td>Video</td>\n",
       "      <td>5</td>\n",
       "    </tr>\n",
       "    <tr>\n",
       "      <th>8</th>\n",
       "      <td>Arcai.com's NetCut Defender</td>\n",
       "      <td>Protect ARP cache and keep Internet connection...</td>\n",
       "      <td>Security</td>\n",
       "      <td>4</td>\n",
       "    </tr>\n",
       "    <tr>\n",
       "      <th>9</th>\n",
       "      <td>Yousendit</td>\n",
       "      <td>Send and receive digital files.</td>\n",
       "      <td>Internet Software</td>\n",
       "      <td>6</td>\n",
       "    </tr>\n",
       "    <tr>\n",
       "      <th>10</th>\n",
       "      <td>PDF Postman for Outlook</td>\n",
       "      <td>Deliver your Outlook e-mail messages and file ...</td>\n",
       "      <td>Communication</td>\n",
       "      <td>2</td>\n",
       "    </tr>\n",
       "    <tr>\n",
       "      <th>11</th>\n",
       "      <td>GIF Player</td>\n",
       "      <td>View and play animated GIF files.</td>\n",
       "      <td>Photography</td>\n",
       "      <td>1</td>\n",
       "    </tr>\n",
       "    <tr>\n",
       "      <th>12</th>\n",
       "      <td>Bigasoft Video Downloader Pro for Mac</td>\n",
       "      <td>Download, record and convert online video to M...</td>\n",
       "      <td>Internet Software</td>\n",
       "      <td>6</td>\n",
       "    </tr>\n",
       "    <tr>\n",
       "      <th>13</th>\n",
       "      <td>Private Secure Disk</td>\n",
       "      <td>Create a virtual disk to store your personal d...</td>\n",
       "      <td>Security</td>\n",
       "      <td>4</td>\n",
       "    </tr>\n",
       "    <tr>\n",
       "      <th>14</th>\n",
       "      <td>AllCapture</td>\n",
       "      <td>Capture your screen and desktop activities and...</td>\n",
       "      <td>Video</td>\n",
       "      <td>5</td>\n",
       "    </tr>\n",
       "    <tr>\n",
       "      <th>15</th>\n",
       "      <td>Max Payne Kung Fu Edition 3.0 Mod</td>\n",
       "      <td>Bring the action and intensity of Hong Kong ac...</td>\n",
       "      <td>Gaming Software</td>\n",
       "      <td>7</td>\n",
       "    </tr>\n",
       "    <tr>\n",
       "      <th>16</th>\n",
       "      <td>Free Youtube to MP4 Converter</td>\n",
       "      <td>Download and convert YouTube videos to MP4 for...</td>\n",
       "      <td>Internet Software</td>\n",
       "      <td>6</td>\n",
       "    </tr>\n",
       "    <tr>\n",
       "      <th>17</th>\n",
       "      <td>TUKO  News: Kenya Hot &amp; Breaking News Free App</td>\n",
       "      <td>Get the Latest News Anywhere 24/7. Spend less ...</td>\n",
       "      <td>Browser</td>\n",
       "      <td>3</td>\n",
       "    </tr>\n",
       "  </tbody>\n",
       "</table>\n",
       "</div>"
      ],
      "text/plain": [
       "                                           Product  \\\n",
       "0                                       Memtest86+   \n",
       "1                         Contenta Converter Basic   \n",
       "2                    Windows USB/DVD Download Tool   \n",
       "3                                          SMS Mac   \n",
       "4                      Disk Doctors Email Recovery   \n",
       "5                                 Yoono for Chrome   \n",
       "6                                        AutoKrypt   \n",
       "7                     Altdo Video to MP4 Converter   \n",
       "8                      Arcai.com's NetCut Defender   \n",
       "9                                        Yousendit   \n",
       "10                         PDF Postman for Outlook   \n",
       "11                                      GIF Player   \n",
       "12           Bigasoft Video Downloader Pro for Mac   \n",
       "13                             Private Secure Disk   \n",
       "14                                      AllCapture   \n",
       "15               Max Payne Kung Fu Edition 3.0 Mod   \n",
       "16                   Free Youtube to MP4 Converter   \n",
       "17  TUKO  News: Kenya Hot & Breaking News Free App   \n",
       "\n",
       "                                          Description           Category  \\\n",
       "0        Protect your memory from errors and failure.          Utilities   \n",
       "1          Convert, rename, and organize your photos.        Photography   \n",
       "2   Create a copy of your Windows ISO file on remo...          Utilities   \n",
       "3               Send SMS text messages from your Mac.      Communication   \n",
       "4   Recover and repair Outlook Express e-mail mess...      Communication   \n",
       "5   Keep all your social networks and IM services ...            Browser   \n",
       "6   Encrypt and decrypt files and folders automati...           Security   \n",
       "7                  Convert video files to MP4 format.              Video   \n",
       "8   Protect ARP cache and keep Internet connection...           Security   \n",
       "9                     Send and receive digital files.  Internet Software   \n",
       "10  Deliver your Outlook e-mail messages and file ...      Communication   \n",
       "11                  View and play animated GIF files.        Photography   \n",
       "12  Download, record and convert online video to M...  Internet Software   \n",
       "13  Create a virtual disk to store your personal d...           Security   \n",
       "14  Capture your screen and desktop activities and...              Video   \n",
       "15  Bring the action and intensity of Hong Kong ac...    Gaming Software   \n",
       "16  Download and convert YouTube videos to MP4 for...  Internet Software   \n",
       "17  Get the Latest News Anywhere 24/7. Spend less ...            Browser   \n",
       "\n",
       "    Category_id  \n",
       "0             0  \n",
       "1             1  \n",
       "2             0  \n",
       "3             2  \n",
       "4             2  \n",
       "5             3  \n",
       "6             4  \n",
       "7             5  \n",
       "8             4  \n",
       "9             6  \n",
       "10            2  \n",
       "11            1  \n",
       "12            6  \n",
       "13            4  \n",
       "14            5  \n",
       "15            7  \n",
       "16            6  \n",
       "17            3  "
      ]
     },
     "execution_count": 7,
     "metadata": {},
     "output_type": "execute_result"
    }
   ],
   "source": [
    "df.head(18)"
   ]
  },
  {
   "cell_type": "code",
   "execution_count": 9,
   "metadata": {},
   "outputs": [],
   "source": [
    "category_id_df = df[[\"Category\", \"Category_id\"]].drop_duplicates().sort_values('Category_id')"
   ]
  },
  {
   "cell_type": "code",
   "execution_count": 10,
   "metadata": {},
   "outputs": [
    {
     "data": {
      "text/html": [
       "<div>\n",
       "<style scoped>\n",
       "    .dataframe tbody tr th:only-of-type {\n",
       "        vertical-align: middle;\n",
       "    }\n",
       "\n",
       "    .dataframe tbody tr th {\n",
       "        vertical-align: top;\n",
       "    }\n",
       "\n",
       "    .dataframe thead th {\n",
       "        text-align: right;\n",
       "    }\n",
       "</style>\n",
       "<table border=\"1\" class=\"dataframe\">\n",
       "  <thead>\n",
       "    <tr style=\"text-align: right;\">\n",
       "      <th></th>\n",
       "      <th>Category</th>\n",
       "      <th>Category_id</th>\n",
       "    </tr>\n",
       "  </thead>\n",
       "  <tbody>\n",
       "    <tr>\n",
       "      <th>0</th>\n",
       "      <td>Utilities</td>\n",
       "      <td>0</td>\n",
       "    </tr>\n",
       "    <tr>\n",
       "      <th>1</th>\n",
       "      <td>Photography</td>\n",
       "      <td>1</td>\n",
       "    </tr>\n",
       "    <tr>\n",
       "      <th>3</th>\n",
       "      <td>Communication</td>\n",
       "      <td>2</td>\n",
       "    </tr>\n",
       "    <tr>\n",
       "      <th>5</th>\n",
       "      <td>Browser</td>\n",
       "      <td>3</td>\n",
       "    </tr>\n",
       "    <tr>\n",
       "      <th>6</th>\n",
       "      <td>Security</td>\n",
       "      <td>4</td>\n",
       "    </tr>\n",
       "    <tr>\n",
       "      <th>7</th>\n",
       "      <td>Video</td>\n",
       "      <td>5</td>\n",
       "    </tr>\n",
       "    <tr>\n",
       "      <th>9</th>\n",
       "      <td>Internet Software</td>\n",
       "      <td>6</td>\n",
       "    </tr>\n",
       "    <tr>\n",
       "      <th>15</th>\n",
       "      <td>Gaming Software</td>\n",
       "      <td>7</td>\n",
       "    </tr>\n",
       "    <tr>\n",
       "      <th>19</th>\n",
       "      <td>Development</td>\n",
       "      <td>8</td>\n",
       "    </tr>\n",
       "    <tr>\n",
       "      <th>21</th>\n",
       "      <td>Networking Software</td>\n",
       "      <td>9</td>\n",
       "    </tr>\n",
       "    <tr>\n",
       "      <th>27</th>\n",
       "      <td>Business Software</td>\n",
       "      <td>10</td>\n",
       "    </tr>\n",
       "    <tr>\n",
       "      <th>40</th>\n",
       "      <td>Desktop Software</td>\n",
       "      <td>11</td>\n",
       "    </tr>\n",
       "  </tbody>\n",
       "</table>\n",
       "</div>"
      ],
      "text/plain": [
       "               Category  Category_id\n",
       "0             Utilities            0\n",
       "1           Photography            1\n",
       "3         Communication            2\n",
       "5               Browser            3\n",
       "6              Security            4\n",
       "7                 Video            5\n",
       "9     Internet Software            6\n",
       "15      Gaming Software            7\n",
       "19          Development            8\n",
       "21  Networking Software            9\n",
       "27    Business Software           10\n",
       "40     Desktop Software           11"
      ]
     },
     "execution_count": 10,
     "metadata": {},
     "output_type": "execute_result"
    }
   ],
   "source": [
    "category_id_df"
   ]
  },
  {
   "cell_type": "code",
   "execution_count": 11,
   "metadata": {},
   "outputs": [],
   "source": [
    "category_to_id = dict(category_id_df.values)"
   ]
  },
  {
   "cell_type": "code",
   "execution_count": 12,
   "metadata": {},
   "outputs": [
    {
     "data": {
      "text/plain": [
       "{'Utilities': 0,\n",
       " 'Photography': 1,\n",
       " 'Communication': 2,\n",
       " 'Browser': 3,\n",
       " 'Security': 4,\n",
       " 'Video': 5,\n",
       " 'Internet Software': 6,\n",
       " 'Gaming Software': 7,\n",
       " 'Development': 8,\n",
       " 'Networking Software': 9,\n",
       " 'Business Software': 10,\n",
       " 'Desktop Software': 11}"
      ]
     },
     "execution_count": 12,
     "metadata": {},
     "output_type": "execute_result"
    }
   ],
   "source": [
    "category_to_id"
   ]
  },
  {
   "cell_type": "code",
   "execution_count": 17,
   "metadata": {},
   "outputs": [],
   "source": [
    "id_to_category = dict(category_id_df[['Category_id', 'Category']].values)"
   ]
  },
  {
   "cell_type": "code",
   "execution_count": 18,
   "metadata": {},
   "outputs": [
    {
     "data": {
      "text/plain": [
       "{0: 'Utilities',\n",
       " 1: 'Photography',\n",
       " 2: 'Communication',\n",
       " 3: 'Browser',\n",
       " 4: 'Security',\n",
       " 5: 'Video',\n",
       " 6: 'Internet Software',\n",
       " 7: 'Gaming Software',\n",
       " 8: 'Development',\n",
       " 9: 'Networking Software',\n",
       " 10: 'Business Software',\n",
       " 11: 'Desktop Software'}"
      ]
     },
     "execution_count": 18,
     "metadata": {},
     "output_type": "execute_result"
    }
   ],
   "source": [
    "id_to_category"
   ]
  },
  {
   "cell_type": "code",
   "execution_count": 19,
   "metadata": {},
   "outputs": [],
   "source": [
    "import matplotlib.pyplot as plt"
   ]
  },
  {
   "cell_type": "code",
   "execution_count": 20,
   "metadata": {},
   "outputs": [
    {
     "data": {
      "text/plain": [
       "<Figure size 864x720 with 0 Axes>"
      ]
     },
     "metadata": {},
     "output_type": "display_data"
    }
   ],
   "source": [
    "fig = plt.figure(figsize=(12,10))"
   ]
  },
  {
   "cell_type": "code",
   "execution_count": 21,
   "metadata": {},
   "outputs": [
    {
     "data": {
      "text/plain": [
       "<matplotlib.axes._subplots.AxesSubplot at 0x1e9f3358ac8>"
      ]
     },
     "execution_count": 21,
     "metadata": {},
     "output_type": "execute_result"
    },
    {
     "data": {
      "image/png": "[encoded data removed]",
      "text/plain": [
       "<Figure size 432x288 with 1 Axes>"
      ]
     },
     "metadata": {
      "needs_background": "light"
     },
     "output_type": "display_data"
    }
   ],
   "source": [
    "df.groupby('Category').Product.count().plot.bar(ylim=0)"
   ]
  },
  {
   "cell_type": "code",
   "execution_count": 22,
   "metadata": {},
   "outputs": [
    {
     "data": {
      "text/html": [
       "<div>\n",
       "<style scoped>\n",
       "    .dataframe tbody tr th:only-of-type {\n",
       "        vertical-align: middle;\n",
       "    }\n",
       "\n",
       "    .dataframe tbody tr th {\n",
       "        vertical-align: top;\n",
       "    }\n",
       "\n",
       "    .dataframe thead th {\n",
       "        text-align: right;\n",
       "    }\n",
       "</style>\n",
       "<table border=\"1\" class=\"dataframe\">\n",
       "  <thead>\n",
       "    <tr style=\"text-align: right;\">\n",
       "      <th></th>\n",
       "      <th>Product</th>\n",
       "      <th>Description</th>\n",
       "      <th>Category</th>\n",
       "      <th>Category_id</th>\n",
       "    </tr>\n",
       "  </thead>\n",
       "  <tbody>\n",
       "    <tr>\n",
       "      <th>0</th>\n",
       "      <td>Memtest86+</td>\n",
       "      <td>Protect your memory from errors and failure.</td>\n",
       "      <td>Utilities</td>\n",
       "      <td>0</td>\n",
       "    </tr>\n",
       "    <tr>\n",
       "      <th>1</th>\n",
       "      <td>Contenta Converter Basic</td>\n",
       "      <td>Convert, rename, and organize your photos.</td>\n",
       "      <td>Photography</td>\n",
       "      <td>1</td>\n",
       "    </tr>\n",
       "    <tr>\n",
       "      <th>2</th>\n",
       "      <td>Windows USB/DVD Download Tool</td>\n",
       "      <td>Create a copy of your Windows ISO file on remo...</td>\n",
       "      <td>Utilities</td>\n",
       "      <td>0</td>\n",
       "    </tr>\n",
       "    <tr>\n",
       "      <th>3</th>\n",
       "      <td>SMS Mac</td>\n",
       "      <td>Send SMS text messages from your Mac.</td>\n",
       "      <td>Communication</td>\n",
       "      <td>2</td>\n",
       "    </tr>\n",
       "    <tr>\n",
       "      <th>4</th>\n",
       "      <td>Disk Doctors Email Recovery</td>\n",
       "      <td>Recover and repair Outlook Express e-mail mess...</td>\n",
       "      <td>Communication</td>\n",
       "      <td>2</td>\n",
       "    </tr>\n",
       "    <tr>\n",
       "      <th>5</th>\n",
       "      <td>Yoono for Chrome</td>\n",
       "      <td>Keep all your social networks and IM services ...</td>\n",
       "      <td>Browser</td>\n",
       "      <td>3</td>\n",
       "    </tr>\n",
       "    <tr>\n",
       "      <th>6</th>\n",
       "      <td>AutoKrypt</td>\n",
       "      <td>Encrypt and decrypt files and folders automati...</td>\n",
       "      <td>Security</td>\n",
       "      <td>4</td>\n",
       "    </tr>\n",
       "    <tr>\n",
       "      <th>7</th>\n",
       "      <td>Altdo Video to MP4 Converter</td>\n",
       "      <td>Convert video files to MP4 format.</td>\n",
       "      <td>Video</td>\n",
       "      <td>5</td>\n",
       "    </tr>\n",
       "    <tr>\n",
       "      <th>8</th>\n",
       "      <td>Arcai.com's NetCut Defender</td>\n",
       "      <td>Protect ARP cache and keep Internet connection...</td>\n",
       "      <td>Security</td>\n",
       "      <td>4</td>\n",
       "    </tr>\n",
       "    <tr>\n",
       "      <th>9</th>\n",
       "      <td>Yousendit</td>\n",
       "      <td>Send and receive digital files.</td>\n",
       "      <td>Internet Software</td>\n",
       "      <td>6</td>\n",
       "    </tr>\n",
       "    <tr>\n",
       "      <th>10</th>\n",
       "      <td>PDF Postman for Outlook</td>\n",
       "      <td>Deliver your Outlook e-mail messages and file ...</td>\n",
       "      <td>Communication</td>\n",
       "      <td>2</td>\n",
       "    </tr>\n",
       "    <tr>\n",
       "      <th>11</th>\n",
       "      <td>GIF Player</td>\n",
       "      <td>View and play animated GIF files.</td>\n",
       "      <td>Photography</td>\n",
       "      <td>1</td>\n",
       "    </tr>\n",
       "    <tr>\n",
       "      <th>12</th>\n",
       "      <td>Bigasoft Video Downloader Pro for Mac</td>\n",
       "      <td>Download, record and convert online video to M...</td>\n",
       "      <td>Internet Software</td>\n",
       "      <td>6</td>\n",
       "    </tr>\n",
       "    <tr>\n",
       "      <th>13</th>\n",
       "      <td>Private Secure Disk</td>\n",
       "      <td>Create a virtual disk to store your personal d...</td>\n",
       "      <td>Security</td>\n",
       "      <td>4</td>\n",
       "    </tr>\n",
       "    <tr>\n",
       "      <th>14</th>\n",
       "      <td>AllCapture</td>\n",
       "      <td>Capture your screen and desktop activities and...</td>\n",
       "      <td>Video</td>\n",
       "      <td>5</td>\n",
       "    </tr>\n",
       "    <tr>\n",
       "      <th>15</th>\n",
       "      <td>Max Payne Kung Fu Edition 3.0 Mod</td>\n",
       "      <td>Bring the action and intensity of Hong Kong ac...</td>\n",
       "      <td>Gaming Software</td>\n",
       "      <td>7</td>\n",
       "    </tr>\n",
       "    <tr>\n",
       "      <th>16</th>\n",
       "      <td>Free Youtube to MP4 Converter</td>\n",
       "      <td>Download and convert YouTube videos to MP4 for...</td>\n",
       "      <td>Internet Software</td>\n",
       "      <td>6</td>\n",
       "    </tr>\n",
       "    <tr>\n",
       "      <th>17</th>\n",
       "      <td>TUKO  News: Kenya Hot &amp; Breaking News Free App</td>\n",
       "      <td>Get the Latest News Anywhere 24/7. Spend less ...</td>\n",
       "      <td>Browser</td>\n",
       "      <td>3</td>\n",
       "    </tr>\n",
       "    <tr>\n",
       "      <th>18</th>\n",
       "      <td>UniView</td>\n",
       "      <td>View, convert, and manipulate your images.</td>\n",
       "      <td>Photography</td>\n",
       "      <td>1</td>\n",
       "    </tr>\n",
       "    <tr>\n",
       "      <th>19</th>\n",
       "      <td>CMath for C++ Builder (formerly Borland C++)</td>\n",
       "      <td>Get complex math library (cartesian and polar)...</td>\n",
       "      <td>Development</td>\n",
       "      <td>8</td>\n",
       "    </tr>\n",
       "    <tr>\n",
       "      <th>20</th>\n",
       "      <td>File Splitter</td>\n",
       "      <td>Split your files into any number of chunks and...</td>\n",
       "      <td>Utilities</td>\n",
       "      <td>0</td>\n",
       "    </tr>\n",
       "    <tr>\n",
       "      <th>21</th>\n",
       "      <td>IP Pinger</td>\n",
       "      <td>Troubleshoot IP-level connectivity with this u...</td>\n",
       "      <td>Networking Software</td>\n",
       "      <td>9</td>\n",
       "    </tr>\n",
       "    <tr>\n",
       "      <th>22</th>\n",
       "      <td>Photoshop Updater</td>\n",
       "      <td>Get the latest features and fixes for your reg...</td>\n",
       "      <td>Photography</td>\n",
       "      <td>1</td>\n",
       "    </tr>\n",
       "    <tr>\n",
       "      <th>23</th>\n",
       "      <td>3Gtopia Desktop</td>\n",
       "      <td>Access thousands of ringtones and screensavers...</td>\n",
       "      <td>Networking Software</td>\n",
       "      <td>9</td>\n",
       "    </tr>\n",
       "    <tr>\n",
       "      <th>24</th>\n",
       "      <td>Video Edit Converter Pro</td>\n",
       "      <td>Convert popular video to VCD, SVCD, DVD, MOV, ...</td>\n",
       "      <td>Video</td>\n",
       "      <td>5</td>\n",
       "    </tr>\n",
       "    <tr>\n",
       "      <th>25</th>\n",
       "      <td>Hide IP Pro</td>\n",
       "      <td>Keep your online privacy safe.</td>\n",
       "      <td>Security</td>\n",
       "      <td>4</td>\n",
       "    </tr>\n",
       "    <tr>\n",
       "      <th>26</th>\n",
       "      <td>GoogleGet</td>\n",
       "      <td>Download Google news to your iPod.</td>\n",
       "      <td>Browser</td>\n",
       "      <td>3</td>\n",
       "    </tr>\n",
       "    <tr>\n",
       "      <th>27</th>\n",
       "      <td>Classic Menu for Office 2010 and 2013</td>\n",
       "      <td>Show classic toolbars and menus in Microsoft O...</td>\n",
       "      <td>Business Software</td>\n",
       "      <td>10</td>\n",
       "    </tr>\n",
       "    <tr>\n",
       "      <th>28</th>\n",
       "      <td>Free AVI Player</td>\n",
       "      <td>Play video files in AVI, MP4, and MOV format w...</td>\n",
       "      <td>Video</td>\n",
       "      <td>5</td>\n",
       "    </tr>\n",
       "    <tr>\n",
       "      <th>29</th>\n",
       "      <td>AnyBizSoft PDF Converter</td>\n",
       "      <td>Convert native PDF to Office formats, EPUB, HT...</td>\n",
       "      <td>Business Software</td>\n",
       "      <td>10</td>\n",
       "    </tr>\n",
       "    <tr>\n",
       "      <th>...</th>\n",
       "      <td>...</td>\n",
       "      <td>...</td>\n",
       "      <td>...</td>\n",
       "      <td>...</td>\n",
       "    </tr>\n",
       "    <tr>\n",
       "      <th>15206</th>\n",
       "      <td>Snagit</td>\n",
       "      <td>Capture your screen and mark it up, or record ...</td>\n",
       "      <td>Business Software</td>\n",
       "      <td>10</td>\n",
       "    </tr>\n",
       "    <tr>\n",
       "      <th>15207</th>\n",
       "      <td>Personal Passworder</td>\n",
       "      <td>Keep your passwords, serial numbers, credit ca...</td>\n",
       "      <td>Security</td>\n",
       "      <td>4</td>\n",
       "    </tr>\n",
       "    <tr>\n",
       "      <th>15208</th>\n",
       "      <td>IPTV</td>\n",
       "      <td>Watch IPTV on your Android device.</td>\n",
       "      <td>Video</td>\n",
       "      <td>5</td>\n",
       "    </tr>\n",
       "    <tr>\n",
       "      <th>15209</th>\n",
       "      <td>BuddyTalk</td>\n",
       "      <td>Communicate with anyone in the world.</td>\n",
       "      <td>Communication</td>\n",
       "      <td>2</td>\n",
       "    </tr>\n",
       "    <tr>\n",
       "      <th>15210</th>\n",
       "      <td>DuckDuckGo for Windows 8</td>\n",
       "      <td>Search and get instant answers on your Windows...</td>\n",
       "      <td>Internet Software</td>\n",
       "      <td>6</td>\n",
       "    </tr>\n",
       "    <tr>\n",
       "      <th>15211</th>\n",
       "      <td>Clash of Clans</td>\n",
       "      <td>Build your village, train your troops and batt...</td>\n",
       "      <td>Gaming Software</td>\n",
       "      <td>7</td>\n",
       "    </tr>\n",
       "    <tr>\n",
       "      <th>15212</th>\n",
       "      <td>DoubleKiller</td>\n",
       "      <td>Find duplicate files on your computer.</td>\n",
       "      <td>Utilities</td>\n",
       "      <td>0</td>\n",
       "    </tr>\n",
       "    <tr>\n",
       "      <th>15213</th>\n",
       "      <td>Roxio MediaTicker</td>\n",
       "      <td>View all your pictures plus videos, photos, an...</td>\n",
       "      <td>Photography</td>\n",
       "      <td>1</td>\n",
       "    </tr>\n",
       "    <tr>\n",
       "      <th>15214</th>\n",
       "      <td>DV MPEG4 Maker</td>\n",
       "      <td>Create MPEG4, DivX, AVI, or WMV video clip files.</td>\n",
       "      <td>Video</td>\n",
       "      <td>5</td>\n",
       "    </tr>\n",
       "    <tr>\n",
       "      <th>15215</th>\n",
       "      <td>Windows 8 CPU Meter</td>\n",
       "      <td>Add a gadget which shows your CPU's statistics...</td>\n",
       "      <td>Desktop Software</td>\n",
       "      <td>11</td>\n",
       "    </tr>\n",
       "    <tr>\n",
       "      <th>15216</th>\n",
       "      <td>IE Asterisk Password Uncover</td>\n",
       "      <td>Reveal forgotten passwords for Web sites you o...</td>\n",
       "      <td>Security</td>\n",
       "      <td>4</td>\n",
       "    </tr>\n",
       "    <tr>\n",
       "      <th>15217</th>\n",
       "      <td>Data Doctor Recovery Pen Drive</td>\n",
       "      <td>Retrieve and repair deleted or damaged files f...</td>\n",
       "      <td>Utilities</td>\n",
       "      <td>0</td>\n",
       "    </tr>\n",
       "    <tr>\n",
       "      <th>15218</th>\n",
       "      <td>Free Convert ASF WMV to AVI MP4 3GP Converter</td>\n",
       "      <td>Convert ASF and WMV video to AVI, MP4 or 3GP f...</td>\n",
       "      <td>Video</td>\n",
       "      <td>5</td>\n",
       "    </tr>\n",
       "    <tr>\n",
       "      <th>15219</th>\n",
       "      <td>Carmageddon II demo</td>\n",
       "      <td>Kill, maim, crash, and race in this gory drivi...</td>\n",
       "      <td>Gaming Software</td>\n",
       "      <td>7</td>\n",
       "    </tr>\n",
       "    <tr>\n",
       "      <th>15220</th>\n",
       "      <td>eScan Anti Virus &amp; Spyware Toolkit Utility</td>\n",
       "      <td>Scan your PC for viruses and remove malware.</td>\n",
       "      <td>Security</td>\n",
       "      <td>4</td>\n",
       "    </tr>\n",
       "    <tr>\n",
       "      <th>15221</th>\n",
       "      <td>Multi Image Downloader</td>\n",
       "      <td>Search and download pictures from Google Images.</td>\n",
       "      <td>Internet Software</td>\n",
       "      <td>6</td>\n",
       "    </tr>\n",
       "    <tr>\n",
       "      <th>15222</th>\n",
       "      <td>Right Zoom</td>\n",
       "      <td>Force windows to go full screen when you click...</td>\n",
       "      <td>Desktop Software</td>\n",
       "      <td>11</td>\n",
       "    </tr>\n",
       "    <tr>\n",
       "      <th>15223</th>\n",
       "      <td>Data Loader</td>\n",
       "      <td>Convert or migrate databases like MSSQL, MySQL...</td>\n",
       "      <td>Development</td>\n",
       "      <td>8</td>\n",
       "    </tr>\n",
       "    <tr>\n",
       "      <th>15224</th>\n",
       "      <td>Bigasoft Video Downloader Pro</td>\n",
       "      <td>Download, capture or record online videos, aud...</td>\n",
       "      <td>Internet Software</td>\n",
       "      <td>6</td>\n",
       "    </tr>\n",
       "    <tr>\n",
       "      <th>15225</th>\n",
       "      <td>Power Media Player 14 for HP Consumer PCs with...</td>\n",
       "      <td>Watch all types of digital media content from ...</td>\n",
       "      <td>Photography</td>\n",
       "      <td>1</td>\n",
       "    </tr>\n",
       "    <tr>\n",
       "      <th>15226</th>\n",
       "      <td>Digital Image 2006 Update</td>\n",
       "      <td>Solve issues that occur when running Digital I...</td>\n",
       "      <td>Photography</td>\n",
       "      <td>1</td>\n",
       "    </tr>\n",
       "    <tr>\n",
       "      <th>15227</th>\n",
       "      <td>TIFFY View Java Edition</td>\n",
       "      <td>View, process, and print your TIFF, BMP, GIF, ...</td>\n",
       "      <td>Photography</td>\n",
       "      <td>1</td>\n",
       "    </tr>\n",
       "    <tr>\n",
       "      <th>15228</th>\n",
       "      <td>Firefox UPA edition</td>\n",
       "      <td>Protect your privacy surfing the Internet anon...</td>\n",
       "      <td>Browser</td>\n",
       "      <td>3</td>\n",
       "    </tr>\n",
       "    <tr>\n",
       "      <th>15229</th>\n",
       "      <td>Solitaire Till Dawn</td>\n",
       "      <td>Play solitaire in all its different forms.</td>\n",
       "      <td>Gaming Software</td>\n",
       "      <td>7</td>\n",
       "    </tr>\n",
       "    <tr>\n",
       "      <th>15230</th>\n",
       "      <td>Dynamic 3i Free Edition ERP/MRP</td>\n",
       "      <td>Plan and manage your enterprise manufacturing ...</td>\n",
       "      <td>Business Software</td>\n",
       "      <td>10</td>\n",
       "    </tr>\n",
       "    <tr>\n",
       "      <th>15231</th>\n",
       "      <td>Outlook Password</td>\n",
       "      <td>Recover Microsoft Outlook e-mail accounts and ...</td>\n",
       "      <td>Communication</td>\n",
       "      <td>2</td>\n",
       "    </tr>\n",
       "    <tr>\n",
       "      <th>15232</th>\n",
       "      <td>Digital Clock GT-7</td>\n",
       "      <td>Display the current time like analog seven-seg...</td>\n",
       "      <td>Desktop Software</td>\n",
       "      <td>11</td>\n",
       "    </tr>\n",
       "    <tr>\n",
       "      <th>15233</th>\n",
       "      <td>Apple Java for OS X 10.6</td>\n",
       "      <td>Update Java components.</td>\n",
       "      <td>Development</td>\n",
       "      <td>8</td>\n",
       "    </tr>\n",
       "    <tr>\n",
       "      <th>15234</th>\n",
       "      <td>Mobeefree PC Dialer</td>\n",
       "      <td>Get a PC dialer that is designed to make inexp...</td>\n",
       "      <td>Communication</td>\n",
       "      <td>2</td>\n",
       "    </tr>\n",
       "    <tr>\n",
       "      <th>15235</th>\n",
       "      <td>Territory Mapper</td>\n",
       "      <td>Create maps of your sales, service or dealer t...</td>\n",
       "      <td>Business Software</td>\n",
       "      <td>10</td>\n",
       "    </tr>\n",
       "  </tbody>\n",
       "</table>\n",
       "<p>15236 rows × 4 columns</p>\n",
       "</div>"
      ],
      "text/plain": [
       "                                                 Product  \\\n",
       "0                                             Memtest86+   \n",
       "1                               Contenta Converter Basic   \n",
       "2                          Windows USB/DVD Download Tool   \n",
       "3                                                SMS Mac   \n",
       "4                            Disk Doctors Email Recovery   \n",
       "5                                       Yoono for Chrome   \n",
       "6                                              AutoKrypt   \n",
       "7                           Altdo Video to MP4 Converter   \n",
       "8                            Arcai.com's NetCut Defender   \n",
       "9                                              Yousendit   \n",
       "10                               PDF Postman for Outlook   \n",
       "11                                            GIF Player   \n",
       "12                 Bigasoft Video Downloader Pro for Mac   \n",
       "13                                   Private Secure Disk   \n",
       "14                                            AllCapture   \n",
       "15                     Max Payne Kung Fu Edition 3.0 Mod   \n",
       "16                         Free Youtube to MP4 Converter   \n",
       "17        TUKO  News: Kenya Hot & Breaking News Free App   \n",
       "18                                               UniView   \n",
       "19          CMath for C++ Builder (formerly Borland C++)   \n",
       "20                                         File Splitter   \n",
       "21                                             IP Pinger   \n",
       "22                                     Photoshop Updater   \n",
       "23                                       3Gtopia Desktop   \n",
       "24                              Video Edit Converter Pro   \n",
       "25                                           Hide IP Pro   \n",
       "26                                             GoogleGet   \n",
       "27                 Classic Menu for Office 2010 and 2013   \n",
       "28                                       Free AVI Player   \n",
       "29                              AnyBizSoft PDF Converter   \n",
       "...                                                  ...   \n",
       "15206                                             Snagit   \n",
       "15207                                Personal Passworder   \n",
       "15208                                               IPTV   \n",
       "15209                                          BuddyTalk   \n",
       "15210                           DuckDuckGo for Windows 8   \n",
       "15211                                     Clash of Clans   \n",
       "15212                                       DoubleKiller   \n",
       "15213                                  Roxio MediaTicker   \n",
       "15214                                     DV MPEG4 Maker   \n",
       "15215                                Windows 8 CPU Meter   \n",
       "15216                       IE Asterisk Password Uncover   \n",
       "15217                     Data Doctor Recovery Pen Drive   \n",
       "15218      Free Convert ASF WMV to AVI MP4 3GP Converter   \n",
       "15219                                Carmageddon II demo   \n",
       "15220         eScan Anti Virus & Spyware Toolkit Utility   \n",
       "15221                             Multi Image Downloader   \n",
       "15222                                         Right Zoom   \n",
       "15223                                        Data Loader   \n",
       "15224                      Bigasoft Video Downloader Pro   \n",
       "15225  Power Media Player 14 for HP Consumer PCs with...   \n",
       "15226                          Digital Image 2006 Update   \n",
       "15227                            TIFFY View Java Edition   \n",
       "15228                                Firefox UPA edition   \n",
       "15229                                Solitaire Till Dawn   \n",
       "15230                    Dynamic 3i Free Edition ERP/MRP   \n",
       "15231                                   Outlook Password   \n",
       "15232                                 Digital Clock GT-7   \n",
       "15233                           Apple Java for OS X 10.6   \n",
       "15234                                Mobeefree PC Dialer   \n",
       "15235                                   Territory Mapper   \n",
       "\n",
       "                                             Description             Category  \\\n",
       "0           Protect your memory from errors and failure.            Utilities   \n",
       "1             Convert, rename, and organize your photos.          Photography   \n",
       "2      Create a copy of your Windows ISO file on remo...            Utilities   \n",
       "3                  Send SMS text messages from your Mac.        Communication   \n",
       "4      Recover and repair Outlook Express e-mail mess...        Communication   \n",
       "5      Keep all your social networks and IM services ...              Browser   \n",
       "6      Encrypt and decrypt files and folders automati...             Security   \n",
       "7                     Convert video files to MP4 format.                Video   \n",
       "8      Protect ARP cache and keep Internet connection...             Security   \n",
       "9                        Send and receive digital files.    Internet Software   \n",
       "10     Deliver your Outlook e-mail messages and file ...        Communication   \n",
       "11                     View and play animated GIF files.          Photography   \n",
       "12     Download, record and convert online video to M...    Internet Software   \n",
       "13     Create a virtual disk to store your personal d...             Security   \n",
       "14     Capture your screen and desktop activities and...                Video   \n",
       "15     Bring the action and intensity of Hong Kong ac...      Gaming Software   \n",
       "16     Download and convert YouTube videos to MP4 for...    Internet Software   \n",
       "17     Get the Latest News Anywhere 24/7. Spend less ...              Browser   \n",
       "18            View, convert, and manipulate your images.          Photography   \n",
       "19     Get complex math library (cartesian and polar)...          Development   \n",
       "20     Split your files into any number of chunks and...            Utilities   \n",
       "21     Troubleshoot IP-level connectivity with this u...  Networking Software   \n",
       "22     Get the latest features and fixes for your reg...          Photography   \n",
       "23     Access thousands of ringtones and screensavers...  Networking Software   \n",
       "24     Convert popular video to VCD, SVCD, DVD, MOV, ...                Video   \n",
       "25                        Keep your online privacy safe.             Security   \n",
       "26                    Download Google news to your iPod.              Browser   \n",
       "27     Show classic toolbars and menus in Microsoft O...    Business Software   \n",
       "28     Play video files in AVI, MP4, and MOV format w...                Video   \n",
       "29     Convert native PDF to Office formats, EPUB, HT...    Business Software   \n",
       "...                                                  ...                  ...   \n",
       "15206  Capture your screen and mark it up, or record ...    Business Software   \n",
       "15207  Keep your passwords, serial numbers, credit ca...             Security   \n",
       "15208                 Watch IPTV on your Android device.                Video   \n",
       "15209              Communicate with anyone in the world.        Communication   \n",
       "15210  Search and get instant answers on your Windows...    Internet Software   \n",
       "15211  Build your village, train your troops and batt...      Gaming Software   \n",
       "15212             Find duplicate files on your computer.            Utilities   \n",
       "15213  View all your pictures plus videos, photos, an...          Photography   \n",
       "15214  Create MPEG4, DivX, AVI, or WMV video clip files.                Video   \n",
       "15215  Add a gadget which shows your CPU's statistics...     Desktop Software   \n",
       "15216  Reveal forgotten passwords for Web sites you o...             Security   \n",
       "15217  Retrieve and repair deleted or damaged files f...            Utilities   \n",
       "15218  Convert ASF and WMV video to AVI, MP4 or 3GP f...                Video   \n",
       "15219  Kill, maim, crash, and race in this gory drivi...      Gaming Software   \n",
       "15220       Scan your PC for viruses and remove malware.             Security   \n",
       "15221   Search and download pictures from Google Images.    Internet Software   \n",
       "15222  Force windows to go full screen when you click...     Desktop Software   \n",
       "15223  Convert or migrate databases like MSSQL, MySQL...          Development   \n",
       "15224  Download, capture or record online videos, aud...    Internet Software   \n",
       "15225  Watch all types of digital media content from ...          Photography   \n",
       "15226  Solve issues that occur when running Digital I...          Photography   \n",
       "15227  View, process, and print your TIFF, BMP, GIF, ...          Photography   \n",
       "15228  Protect your privacy surfing the Internet anon...              Browser   \n",
       "15229         Play solitaire in all its different forms.      Gaming Software   \n",
       "15230  Plan and manage your enterprise manufacturing ...    Business Software   \n",
       "15231  Recover Microsoft Outlook e-mail accounts and ...        Communication   \n",
       "15232  Display the current time like analog seven-seg...     Desktop Software   \n",
       "15233                            Update Java components.          Development   \n",
       "15234  Get a PC dialer that is designed to make inexp...        Communication   \n",
       "15235  Create maps of your sales, service or dealer t...    Business Software   \n",
       "\n",
       "       Category_id  \n",
       "0                0  \n",
       "1                1  \n",
       "2                0  \n",
       "3                2  \n",
       "4                2  \n",
       "5                3  \n",
       "6                4  \n",
       "7                5  \n",
       "8                4  \n",
       "9                6  \n",
       "10               2  \n",
       "11               1  \n",
       "12               6  \n",
       "13               4  \n",
       "14               5  \n",
       "15               7  \n",
       "16               6  \n",
       "17               3  \n",
       "18               1  \n",
       "19               8  \n",
       "20               0  \n",
       "21               9  \n",
       "22               1  \n",
       "23               9  \n",
       "24               5  \n",
       "25               4  \n",
       "26               3  \n",
       "27              10  \n",
       "28               5  \n",
       "29              10  \n",
       "...            ...  \n",
       "15206           10  \n",
       "15207            4  \n",
       "15208            5  \n",
       "15209            2  \n",
       "15210            6  \n",
       "15211            7  \n",
       "15212            0  \n",
       "15213            1  \n",
       "15214            5  \n",
       "15215           11  \n",
       "15216            4  \n",
       "15217            0  \n",
       "15218            5  \n",
       "15219            7  \n",
       "15220            4  \n",
       "15221            6  \n",
       "15222           11  \n",
       "15223            8  \n",
       "15224            6  \n",
       "15225            1  \n",
       "15226            1  \n",
       "15227            1  \n",
       "15228            3  \n",
       "15229            7  \n",
       "15230           10  \n",
       "15231            2  \n",
       "15232           11  \n",
       "15233            8  \n",
       "15234            2  \n",
       "15235           10  \n",
       "\n",
       "[15236 rows x 4 columns]"
      ]
     },
     "execution_count": 22,
     "metadata": {},
     "output_type": "execute_result"
    }
   ],
   "source": [
    "df"
   ]
  },
  {
   "cell_type": "code",
   "execution_count": 23,
   "metadata": {},
   "outputs": [
    {
     "data": {
      "text/plain": [
       "Category\n",
       "Browser                1244\n",
       "Business Software      1252\n",
       "Communication          1300\n",
       "Desktop Software       1273\n",
       "Development            1287\n",
       "Gaming Software        1164\n",
       "Internet Software      1338\n",
       "Networking Software    1300\n",
       "Photography            1294\n",
       "Security               1268\n",
       "Utilities              1263\n",
       "Video                  1253\n",
       "Name: Product, dtype: int64"
      ]
     },
     "execution_count": 23,
     "metadata": {},
     "output_type": "execute_result"
    }
   ],
   "source": [
    "df.groupby('Category').Product.count()"
   ]
  },
  {
   "cell_type": "code",
   "execution_count": 24,
   "metadata": {},
   "outputs": [],
   "source": [
    "edr = dict(df.groupby('Category').Product.count())"
   ]
  },
  {
   "cell_type": "code",
   "execution_count": 25,
   "metadata": {},
   "outputs": [
    {
     "data": {
      "text/plain": [
       "{'Browser': 1244,\n",
       " 'Business Software': 1252,\n",
       " 'Communication': 1300,\n",
       " 'Desktop Software': 1273,\n",
       " 'Development': 1287,\n",
       " 'Gaming Software': 1164,\n",
       " 'Internet Software': 1338,\n",
       " 'Networking Software': 1300,\n",
       " 'Photography': 1294,\n",
       " 'Security': 1268,\n",
       " 'Utilities': 1263,\n",
       " 'Video': 1253}"
      ]
     },
     "execution_count": 25,
     "metadata": {},
     "output_type": "execute_result"
    }
   ],
   "source": [
    "edr"
   ]
  },
  {
   "cell_type": "code",
   "execution_count": 26,
   "metadata": {},
   "outputs": [],
   "source": [
    "edr_category = edr.keys()"
   ]
  },
  {
   "cell_type": "code",
   "execution_count": 27,
   "metadata": {},
   "outputs": [
    {
     "data": {
      "text/plain": [
       "dict_keys(['Browser', 'Business Software', 'Communication', 'Desktop Software', 'Development', 'Gaming Software', 'Internet Software', 'Networking Software', 'Photography', 'Security', 'Utilities', 'Video'])"
      ]
     },
     "execution_count": 27,
     "metadata": {},
     "output_type": "execute_result"
    }
   ],
   "source": [
    "edr_category"
   ]
  },
  {
   "cell_type": "code",
   "execution_count": 29,
   "metadata": {},
   "outputs": [
    {
     "data": {
      "text/plain": [
       "dict_keys"
      ]
     },
     "execution_count": 29,
     "metadata": {},
     "output_type": "execute_result"
    }
   ],
   "source": [
    "type(edr_category)"
   ]
  },
  {
   "cell_type": "code",
   "execution_count": 30,
   "metadata": {},
   "outputs": [],
   "source": [
    "edr_category = list(edr_category)"
   ]
  },
  {
   "cell_type": "code",
   "execution_count": 31,
   "metadata": {},
   "outputs": [
    {
     "data": {
      "text/plain": [
       "['Browser',\n",
       " 'Business Software',\n",
       " 'Communication',\n",
       " 'Desktop Software',\n",
       " 'Development',\n",
       " 'Gaming Software',\n",
       " 'Internet Software',\n",
       " 'Networking Software',\n",
       " 'Photography',\n",
       " 'Security',\n",
       " 'Utilities',\n",
       " 'Video']"
      ]
     },
     "execution_count": 31,
     "metadata": {},
     "output_type": "execute_result"
    }
   ],
   "source": [
    "edr_category"
   ]
  },
  {
   "cell_type": "code",
   "execution_count": 32,
   "metadata": {},
   "outputs": [],
   "source": [
    "edr_values = edr.values()"
   ]
  },
  {
   "cell_type": "code",
   "execution_count": 33,
   "metadata": {},
   "outputs": [],
   "source": [
    "edr_values = list(edr_values)"
   ]
  },
  {
   "cell_type": "code",
   "execution_count": 34,
   "metadata": {},
   "outputs": [
    {
     "data": {
      "text/plain": [
       "[1244, 1252, 1300, 1273, 1287, 1164, 1338, 1300, 1294, 1268, 1263, 1253]"
      ]
     },
     "execution_count": 34,
     "metadata": {},
     "output_type": "execute_result"
    }
   ],
   "source": [
    "edr_values"
   ]
  },
  {
   "cell_type": "code",
   "execution_count": 35,
   "metadata": {},
   "outputs": [
    {
     "data": {
      "image/png": "[encoded data removed]",
      "text/plain": [
       "<Figure size 432x288 with 1 Axes>"
      ]
     },
     "metadata": {},
     "output_type": "display_data"
    }
   ],
   "source": [
    "plt.axis(\"equal\")\n",
    "expld = [0,0,0,0,0.2,0,0.4,0,0,0,0,0.3]\n",
    "plt.pie(edr_values, labels = edr_category, radius = 1.5,\n",
    "        autopct = '%0.2f%%', shadow = True, explode = expld)\n",
    "plt.show()"
   ]
  },
  {
   "cell_type": "code",
   "execution_count": 38,
   "metadata": {},
   "outputs": [],
   "source": [
    "import numpy as np\n",
    "ypos = np.arange(len(edr_category))"
   ]
  },
  {
   "cell_type": "code",
   "execution_count": 39,
   "metadata": {},
   "outputs": [
    {
     "data": {
      "text/plain": [
       "array([ 0,  1,  2,  3,  4,  5,  6,  7,  8,  9, 10, 11])"
      ]
     },
     "execution_count": 39,
     "metadata": {},
     "output_type": "execute_result"
    }
   ],
   "source": [
    "ypos"
   ]
  },
  {
   "cell_type": "code",
   "execution_count": 46,
   "metadata": {},
   "outputs": [
    {
     "data": {
      "text/plain": [
       "<BarContainer object of 12 artists>"
      ]
     },
     "execution_count": 46,
     "metadata": {},
     "output_type": "execute_result"
    },
    {
     "data": {
      "image/png": "[encoded data removed]",
      "text/plain": [
       "<Figure size 432x288 with 1 Axes>"
      ]
     },
     "metadata": {
      "needs_background": "light"
     },
     "output_type": "display_data"
    }
   ],
   "source": [
    "plt.yticks(ypos, edr_category)\n",
    "plt.xlabel('No. of Products')\n",
    "plt.ylabel('Software Categories')\n",
    "plt.barh(ypos, edr_values, label = 'Number of products')"
   ]
  },
  {
   "cell_type": "code",
   "execution_count": 48,
   "metadata": {},
   "outputs": [
    {
     "data": {
      "text/plain": [
       "(array([1., 1., 5., 2., 2., 1.]),\n",
       " array([1150, 1200, 1250, 1275, 1300, 1325, 1350]),\n",
       " <a list of 6 Patch objects>)"
      ]
     },
     "execution_count": 48,
     "metadata": {},
     "output_type": "execute_result"
    },
    {
     "data": {
      "image/png": "[encoded data removed]",
      "text/plain": [
       "<Figure size 432x288 with 1 Axes>"
      ]
     },
     "metadata": {
      "needs_background": "light"
     },
     "output_type": "display_data"
    }
   ],
   "source": [
    "bns = [1150,1200,1250,1275,1300,1325,1350]\n",
    "plt.xlabel('Interval')\n",
    "plt.ylabel('No. of Categories')\n",
    "plt.title('Histogram indicating maximum frequecy interval')\n",
    "plt.hist(edr_values, bins = bns, rwidth = 0.95, color = 'green')"
   ]
  },
  {
   "cell_type": "code",
   "execution_count": 49,
   "metadata": {},
   "outputs": [
    {
     "data": {
      "text/plain": [
       "<BarContainer object of 12 artists>"
      ]
     },
     "execution_count": 49,
     "metadata": {},
     "output_type": "execute_result"
    },
    {
     "data": {
      "image/png": "[encoded data removed]",
      "text/plain": [
       "<Figure size 432x288 with 1 Axes>"
      ]
     },
     "metadata": {
      "needs_background": "light"
     },
     "output_type": "display_data"
    }
   ],
   "source": [
    "plt.yticks(ypos, edr_category)\n",
    "plt.xlabel('No. of Products')\n",
    "plt.ylabel('Software Categories')\n",
    "plt.barh(ypos, edr_values, label = 'Number of products')"
   ]
  },
  {
   "cell_type": "markdown",
   "metadata": {},
   "source": [
    "Description Text Representation"
   ]
  },
  {
   "cell_type": "code",
   "execution_count": 50,
   "metadata": {},
   "outputs": [],
   "source": [
    "from sklearn.feature_extraction.text import TfidfVectorizer"
   ]
  },
  {
   "cell_type": "code",
   "execution_count": 57,
   "metadata": {},
   "outputs": [],
   "source": [
    "tfidf = TfidfVectorizer(sublinear_tf = True, min_df = 4, norm = 'l2', ngram_range = (1,2), \n",
    "                        stop_words = 'english')"
   ]
  },
  {
   "cell_type": "code",
   "execution_count": 58,
   "metadata": {},
   "outputs": [],
   "source": [
    "features = tfidf.fit_transform(df.Description).toarray()"
   ]
  },
  {
   "cell_type": "code",
   "execution_count": 53,
   "metadata": {},
   "outputs": [
    {
     "data": {
      "text/plain": [
       "array([[0., 0., 0., ..., 0., 0., 0.],\n",
       "       [0., 0., 0., ..., 0., 0., 0.],\n",
       "       [0., 0., 0., ..., 0., 0., 0.],\n",
       "       ...,\n",
       "       [0., 0., 0., ..., 0., 0., 0.],\n",
       "       [0., 0., 0., ..., 0., 0., 0.],\n",
       "       [0., 0., 0., ..., 0., 0., 0.]])"
      ]
     },
     "execution_count": 53,
     "metadata": {},
     "output_type": "execute_result"
    }
   ],
   "source": [
    "features"
   ]
  },
  {
   "cell_type": "code",
   "execution_count": 55,
   "metadata": {},
   "outputs": [],
   "source": [
    "labels = df.Category_id"
   ]
  },
  {
   "cell_type": "code",
   "execution_count": 59,
   "metadata": {},
   "outputs": [
    {
     "data": {
      "text/plain": [
       "(15236, 5764)"
      ]
     },
     "execution_count": 59,
     "metadata": {},
     "output_type": "execute_result"
    }
   ],
   "source": [
    "features.shape"
   ]
  },
  {
   "cell_type": "code",
   "execution_count": 60,
   "metadata": {},
   "outputs": [],
   "source": [
    "from sklearn.model_selection import train_test_split"
   ]
  },
  {
   "cell_type": "code",
   "execution_count": 61,
   "metadata": {},
   "outputs": [],
   "source": [
    "X_train, X_test, y_train, y_test = train_test_split(df['Description'],df['Category'], random_state=0)"
   ]
  },
  {
   "cell_type": "code",
   "execution_count": 63,
   "metadata": {},
   "outputs": [],
   "source": [
    "from sklearn.feature_extraction.text import CountVectorizer"
   ]
  },
  {
   "cell_type": "code",
   "execution_count": 64,
   "metadata": {},
   "outputs": [],
   "source": [
    "count_vect = CountVectorizer()"
   ]
  },
  {
   "cell_type": "code",
   "execution_count": 66,
   "metadata": {},
   "outputs": [],
   "source": [
    "X_train_count = count_vect.fit_transform(X_train)\n",
    "from sklearn.feature_extraction.text import TfidfTransformer\n",
    "tfidf_transformer = TfidfTransformer()\n",
    "X_train_tfidf = tfidf_transformer.fit_transform(X_train_count)"
   ]
  },
  {
   "cell_type": "code",
   "execution_count": 67,
   "metadata": {},
   "outputs": [],
   "source": [
    "from sklearn.svm import LinearSVC\n",
    "classification = LinearSVC().fit(X_train_tfidf, y_train)"
   ]
  },
  {
   "cell_type": "code",
   "execution_count": 68,
   "metadata": {},
   "outputs": [
    {
     "name": "stdout",
     "output_type": "stream",
     "text": [
      "['Gaming Software']\n"
     ]
    }
   ],
   "source": [
    "print(classification.predict(count_vect.transform(['Play solitaire in all its different forms'])))"
   ]
  },
  {
   "cell_type": "code",
   "execution_count": 69,
   "metadata": {},
   "outputs": [
    {
     "name": "stdout",
     "output_type": "stream",
     "text": [
      "['Security']\n"
     ]
    }
   ],
   "source": [
    "print(classification.predict(count_vect.transform(['Protect your privacy surfing the Internet'])))"
   ]
  },
  {
   "cell_type": "code",
   "execution_count": 70,
   "metadata": {},
   "outputs": [
    {
     "name": "stdout",
     "output_type": "stream",
     "text": [
      "['Video']\n"
     ]
    }
   ],
   "source": [
    "print(classification.predict(count_vect.transform(['Create MPEG4, DivX, AVI, or WMV video clip files'])))"
   ]
  },
  {
   "cell_type": "code",
   "execution_count": 71,
   "metadata": {},
   "outputs": [
    {
     "name": "stdout",
     "output_type": "stream",
     "text": [
      "['Desktop Software']\n"
     ]
    }
   ],
   "source": [
    "print(classification.predict(count_vect.transform([\"gadget which shows your CPU's statistics\"])))"
   ]
  },
  {
   "cell_type": "code",
   "execution_count": 72,
   "metadata": {},
   "outputs": [
    {
     "name": "stdout",
     "output_type": "stream",
     "text": [
      "['Business Software']\n"
     ]
    }
   ],
   "source": [
    "print(classification.predict(count_vect.transform([\"Convert native PDF to Office formats, EPUB\"])))"
   ]
  },
  {
   "cell_type": "code",
   "execution_count": 73,
   "metadata": {},
   "outputs": [
    {
     "name": "stdout",
     "output_type": "stream",
     "text": [
      "['Communication']\n"
     ]
    }
   ],
   "source": [
    "print(classification.predict(count_vect.transform([\"Send SMS text messages from your Mac\"])))"
   ]
  },
  {
   "cell_type": "code",
   "execution_count": 74,
   "metadata": {},
   "outputs": [
    {
     "name": "stdout",
     "output_type": "stream",
     "text": [
      "['Video']\n"
     ]
    }
   ],
   "source": [
    "print(classification.predict(count_vect.transform([\"View and play animated GIF files\"])))"
   ]
  },
  {
   "cell_type": "code",
   "execution_count": 75,
   "metadata": {},
   "outputs": [
    {
     "name": "stdout",
     "output_type": "stream",
     "text": [
      "['Utilities']\n"
     ]
    }
   ],
   "source": [
    "print(classification.predict(count_vect.transform([\"Protect your memory from errors and failure\"])))"
   ]
  },
  {
   "cell_type": "code",
   "execution_count": 76,
   "metadata": {},
   "outputs": [
    {
     "name": "stdout",
     "output_type": "stream",
     "text": [
      "['Photography']\n"
     ]
    }
   ],
   "source": [
    "print(classification.predict(count_vect.transform([\"View all your pictures plus videos, photos\"])))"
   ]
  },
  {
   "cell_type": "code",
   "execution_count": 77,
   "metadata": {},
   "outputs": [
    {
     "name": "stdout",
     "output_type": "stream",
     "text": [
      "['Networking Software']\n"
     ]
    }
   ],
   "source": [
    "print(classification.predict(count_vect.transform([\"Troubleshoot IP-level connectivity with this\"])))"
   ]
  },
  {
   "cell_type": "code",
   "execution_count": 78,
   "metadata": {},
   "outputs": [],
   "source": [
    "y_pred = classification.predict(count_vect.transform(X_test))"
   ]
  },
  {
   "cell_type": "code",
   "execution_count": 79,
   "metadata": {},
   "outputs": [],
   "source": [
    "from sklearn import metrics"
   ]
  },
  {
   "cell_type": "code",
   "execution_count": 81,
   "metadata": {},
   "outputs": [
    {
     "name": "stderr",
     "output_type": "stream",
     "text": [
      "C:\\Users\\RATAN\\Anaconda3\\lib\\site-packages\\sklearn\\metrics\\classification.py:1537: UserWarning: labels size, 15236, does not match size of target_names, 12\n",
      "  .format(len(labels), len(target_names))\n"
     ]
    },
    {
     "name": "stdout",
     "output_type": "stream",
     "text": [
      "                     precision    recall  f1-score   support\n",
      "\n",
      "          Utilities       0.62      0.70      0.65       320\n",
      "        Photography       0.78      0.78      0.78       337\n",
      "      Communication       0.62      0.70      0.65       320\n",
      "            Browser       0.64      0.70      0.67       305\n",
      "           Security       0.64      0.70      0.67       305\n",
      "              Video       0.68      0.56      0.61       326\n",
      "  Internet Software       0.72      0.76      0.74       294\n",
      "    Gaming Software       0.72      0.89      0.79       354\n",
      "        Development       0.72      0.76      0.74       294\n",
      "Networking Software       0.48      0.51      0.50       346\n",
      "  Business Software       0.64      0.70      0.67       305\n",
      "   Desktop Software       0.78      0.78      0.78       337\n",
      "\n",
      "          micro avg       0.69      0.69      0.69   4838248\n",
      "          macro avg       0.70      0.69      0.69   4838248\n",
      "       weighted avg       0.69      0.69      0.69   4838248\n",
      "\n"
     ]
    }
   ],
   "source": [
    "print(metrics.classification_report(y_test, y_pred, labels = df.Category, \n",
    "                                    target_names = df['Category'].unique()))"
   ]
  },
  {
   "cell_type": "code",
   "execution_count": 86,
   "metadata": {},
   "outputs": [
    {
     "data": {
      "text/plain": [
       "(15236, 21726)"
      ]
     },
     "execution_count": 86,
     "metadata": {},
     "output_type": "execute_result"
    }
   ],
   "source": [
    "tfidf = TfidfVectorizer(sublinear_tf = True, min_df = 2, norm = 'l2', ngram_range = (1,3), \n",
    "                        stop_words = 'english')\n",
    "features = tfidf.fit_transform(df.Description).toarray()\n",
    "labels = df.Category_id\n",
    "features.shape"
   ]
  },
  {
   "cell_type": "code",
   "execution_count": 32,
   "metadata": {},
   "outputs": [
    {
     "name": "stdout",
     "output_type": "stream",
     "text": [
      "                     precision    recall  f1-score   support\n",
      "\n",
      "          Utilities       0.57      0.67      0.62       316\n",
      "        Development       0.67      0.70      0.68       306\n",
      "            Browser       0.57      0.67      0.62       316\n",
      "    Gaming Software       0.65      0.61      0.62       319\n",
      "  Business Software       0.88      0.83      0.85       310\n",
      "   Desktop Software       0.57      0.67      0.62       316\n",
      "Networking Software       0.75      0.59      0.66       304\n",
      "      Communication       0.57      0.67      0.62       316\n",
      "           Security       0.57      0.67      0.62       316\n",
      "        Photography       0.80      0.60      0.69       329\n",
      "  Internet Software       0.69      0.58      0.63       338\n",
      "              Video       0.65      0.61      0.62       319\n",
      "\n",
      "          micro avg       0.68      0.68      0.68   4838694\n",
      "          macro avg       0.69      0.68      0.68   4838694\n",
      "       weighted avg       0.69      0.68      0.68   4838694\n",
      "\n"
     ]
    }
   ],
   "source": [
    "X_train, X_test, y_train, y_test = train_test_split(df['Description'],df['Category'], random_state=0)\n",
    "count_vect = CountVectorizer()\n",
    "X_train_count = count_vect.fit_transform(X_train)\n",
    "from sklearn.feature_extraction.text import TfidfTransformer\n",
    "tfidf_transformer = TfidfTransformer()\n",
    "X_train_tfidf = tfidf_transformer.fit_transform(X_train_count)\n",
    "classification = LinearSVC().fit(X_train_tfidf, y_train)\n",
    "y_pred = classification.predict(count_vect.transform(X_test))\n",
    "print(metrics.classification_report(y_test, y_pred, labels = df.Category, \n",
    "                                    target_names = df['Category'].unique()))\n"
   ]
  },
  {
   "cell_type": "markdown",
   "metadata": {},
   "source": [
    "import pandas as pd\n",
    "df = pd.read_csv(\"SWDataSet.csv\")\n",
    "df.head(12)\n",
    "df.shape\n",
    "df[\"Category_id\"] = df['Category'].factorize()[0]\n",
    "df.head(18)\n",
    "category_id_df = df[[\"Category\", \"Category_id\"]].drop_duplicates().sort_values('Category_id')\n",
    "category_id_df\n",
    "category_to_id = dict(category_id_df.values)\n",
    "id_to_category = dict(category_id_df[['Category_id', 'Category']].values)\n",
    "import numpy as np\n",
    "from sklearn.feature_extraction.text import TfidfVectorizer\n",
    "tfidf = TfidfVectorizer(sublinear_tf = True, min_df = 2, norm = 'l2', ngram_range = (1,3), \n",
    "                        stop_words = 'english')\n",
    "features = tfidf.fit_transform(df.Description).toarray()\n",
    "labels = df.Category_id\n",
    "features.shape\n",
    "from sklearn.model_selection import train_test_split\n",
    "X_train, X_test, y_train, y_test = train_test_split(df['Description'],df['Category'], random_state=0)\n",
    "count_vect = CountVectorizer()\n",
    "X_train_count = count_vect.fit_transform(X_train)\n",
    "from sklearn.feature_extraction.text import TfidfTransformer\n",
    "tfidf_transformer = TfidfTransformer()\n",
    "X_train_tfidf = tfidf_transformer.fit_transform(X_train_count)\n",
    "classification = LinearSVC().fit(X_train_tfidf, y_train)\n",
    "y_pred = classification.predict(count_vect.transform(X_test))\n",
    "print(metrics.classification_report(y_test, y_pred, labels = df.Category, \n",
    "                                    target_names = df['Category'].unique()))"
   ]
  },
  {
   "cell_type": "code",
   "execution_count": null,
   "metadata": {},
   "outputs": [],
   "source": []
  }
 ],
 "metadata": {
  "kernelspec": {
   "display_name": "Python 3",
   "language": "python",
   "name": "python3"
  },
  "language_info": {
   "codemirror_mode": {
    "name": "ipython",
    "version": 3
   },
   "file_extension": ".py",
   "mimetype": "text/x-python",
   "name": "python",
   "nbconvert_exporter": "python",
   "pygments_lexer": "ipython3",
   "version": "3.7.1"
  }
 },
 "nbformat": 4,
 "nbformat_minor": 2
}
