{
 "cells": [
  {
   "cell_type": "code",
   "execution_count": 1,
   "metadata": {},
   "outputs": [],
   "source": [
    "import pandas as pd"
   ]
  },
  {
   "cell_type": "code",
   "execution_count": 2,
   "metadata": {},
   "outputs": [],
   "source": [
    "df = pd.read_csv(\"SWDataSet4.csv\")"
   ]
  },
  {
   "cell_type": "code",
   "execution_count": 3,
   "metadata": {},
   "outputs": [],
   "source": [
    "col = [\"Description\", \"Category\"]"
   ]
  },
  {
   "cell_type": "code",
   "execution_count": 4,
   "metadata": {},
   "outputs": [],
   "source": [
    "df = df[col]"
   ]
  },
  {
   "cell_type": "code",
   "execution_count": 5,
   "metadata": {},
   "outputs": [],
   "source": [
    "df[\"Category_id\"] = df['Category'].factorize()[0]"
   ]
  },
  {
   "cell_type": "code",
   "execution_count": 6,
   "metadata": {},
   "outputs": [],
   "source": [
    "category_id_df = df[[\"Category\", \"Category_id\"]].drop_duplicates().sort_values('Category_id')"
   ]
  },
  {
   "cell_type": "code",
   "execution_count": 7,
   "metadata": {},
   "outputs": [],
   "source": [
    "category_to_id = dict(category_id_df.values)"
   ]
  },
  {
   "cell_type": "code",
   "execution_count": 8,
   "metadata": {},
   "outputs": [],
   "source": [
    "id_to_category = dict(category_id_df[['Category_id', 'Category']].values)"
   ]
  },
  {
   "cell_type": "code",
   "execution_count": 9,
   "metadata": {},
   "outputs": [],
   "source": [
    "from sklearn.feature_extraction.text import TfidfVectorizer"
   ]
  },
  {
   "cell_type": "code",
   "execution_count": 10,
   "metadata": {},
   "outputs": [],
   "source": [
    "tfidf = TfidfVectorizer(sublinear_tf = True, min_df = 5, \n",
    "                        norm = 'l2', ngram_range = (1,2), \n",
    "                        stop_words = 'english', max_features = 12)"
   ]
  },
  {
   "cell_type": "code",
   "execution_count": 11,
   "metadata": {},
   "outputs": [],
   "source": [
    "features = tfidf.fit_transform(df.Description).toarray()"
   ]
  },
  {
   "cell_type": "code",
   "execution_count": 12,
   "metadata": {},
   "outputs": [],
   "source": [
    "labels = df.Category_id"
   ]
  },
  {
   "cell_type": "code",
   "execution_count": 13,
   "metadata": {},
   "outputs": [],
   "source": [
    "from sklearn.model_selection import train_test_split"
   ]
  },
  {
   "cell_type": "code",
   "execution_count": 14,
   "metadata": {},
   "outputs": [],
   "source": [
    "X_train, X_test, y_train, y_test = train_test_split(df['Description'],df['Category'], \n",
    "                                                    test_size = 800, random_state=7)"
   ]
  },
  {
   "cell_type": "code",
   "execution_count": 15,
   "metadata": {},
   "outputs": [],
   "source": [
    "from sklearn.feature_extraction.text import CountVectorizer"
   ]
  },
  {
   "cell_type": "code",
   "execution_count": 16,
   "metadata": {},
   "outputs": [],
   "source": [
    "count_vect = CountVectorizer()"
   ]
  },
  {
   "cell_type": "code",
   "execution_count": 17,
   "metadata": {},
   "outputs": [],
   "source": [
    "X_train_count = count_vect.fit_transform(X_train)\n",
    "from sklearn.feature_extraction.text import TfidfTransformer\n",
    "tfidf_transformer = TfidfTransformer()\n",
    "X_train_tfidf = tfidf_transformer.fit_transform(X_train_count)"
   ]
  },
  {
   "cell_type": "code",
   "execution_count": 18,
   "metadata": {},
   "outputs": [],
   "source": [
    "from sklearn.svm import LinearSVC\n",
    "classification = LinearSVC().fit(X_train_tfidf, y_train)"
   ]
  },
  {
   "cell_type": "code",
   "execution_count": 19,
   "metadata": {},
   "outputs": [],
   "source": [
    "y_pred = classification.predict(count_vect.transform(X_test))"
   ]
  },
  {
   "cell_type": "code",
   "execution_count": 20,
   "metadata": {},
   "outputs": [],
   "source": [
    "from sklearn import metrics"
   ]
  },
  {
   "cell_type": "code",
   "execution_count": 21,
   "metadata": {},
   "outputs": [
    {
     "name": "stdout",
     "output_type": "stream",
     "text": [
      "                      precision    recall  f1-score   support\n",
      "\n",
      "       Communication       0.58      0.58      0.58        36\n",
      "     Gaming Software       0.96      0.89      0.93       141\n",
      "Development Software       0.83      0.79      0.81        72\n",
      "           Utilities       0.65      0.69      0.67        32\n",
      "   Internet Software       0.48      0.58      0.52        52\n",
      "   Security Software       0.83      0.79      0.81        72\n",
      "         Photography       0.71      0.72      0.72        68\n",
      "               Video       0.92      0.88      0.90       159\n",
      "             Browser       0.48      0.58      0.52        52\n",
      "    Desktop Software       0.92      0.88      0.90       159\n",
      " Networking Software       0.92      0.88      0.90       159\n",
      "\n",
      "           micro avg       0.84      0.82      0.83    944552\n",
      "           macro avg       0.78      0.78      0.78    944552\n",
      "        weighted avg       0.85      0.82      0.84    944552\n",
      "\n"
     ]
    },
    {
     "name": "stderr",
     "output_type": "stream",
     "text": [
      "C:\\Users\\RATAN\\Anaconda3\\lib\\site-packages\\sklearn\\metrics\\classification.py:1537: UserWarning: labels size, 9730, does not match size of target_names, 11\n",
      "  .format(len(labels), len(target_names))\n"
     ]
    }
   ],
   "source": [
    "print(metrics.classification_report(y_test, y_pred, labels = df.Category, \n",
    "                                    target_names = df['Category'].unique()))"
   ]
  },
  {
   "cell_type": "code",
   "execution_count": 22,
   "metadata": {},
   "outputs": [
    {
     "data": {
      "text/plain": [
       "array([[0.        , 0.        , 0.        , ..., 0.        , 0.        ,\n",
       "        0.        ],\n",
       "       [0.        , 0.        , 0.        , ..., 0.        , 0.        ,\n",
       "        0.        ],\n",
       "       [0.        , 0.        , 0.        , ..., 0.        , 0.        ,\n",
       "        0.        ],\n",
       "       ...,\n",
       "       [0.        , 0.        , 0.        , ..., 0.        , 0.        ,\n",
       "        0.        ],\n",
       "       [0.56553793, 0.        , 0.60330032, ..., 0.5623127 , 0.        ,\n",
       "        0.        ],\n",
       "       [0.        , 0.        , 0.        , ..., 0.        , 0.        ,\n",
       "        0.        ]])"
      ]
     },
     "execution_count": 22,
     "metadata": {},
     "output_type": "execute_result"
    }
   ],
   "source": [
    "features"
   ]
  },
  {
   "cell_type": "code",
   "execution_count": 23,
   "metadata": {},
   "outputs": [
    {
     "data": {
      "text/plain": [
       "0       0\n",
       "1       1\n",
       "2       2\n",
       "3       3\n",
       "4       4\n",
       "5       2\n",
       "6       5\n",
       "7       6\n",
       "8       4\n",
       "9       6\n",
       "10      6\n",
       "11      5\n",
       "12      7\n",
       "13      1\n",
       "14      1\n",
       "15      2\n",
       "16      5\n",
       "17      2\n",
       "18      6\n",
       "19      1\n",
       "20      5\n",
       "21      5\n",
       "22      5\n",
       "23      6\n",
       "24      8\n",
       "25      4\n",
       "26      6\n",
       "27      8\n",
       "28      1\n",
       "29      4\n",
       "       ..\n",
       "9700    9\n",
       "9701    2\n",
       "9702    6\n",
       "9703    6\n",
       "9704    6\n",
       "9705    8\n",
       "9706    8\n",
       "9707    1\n",
       "9708    7\n",
       "9709    1\n",
       "9710    6\n",
       "9711    9\n",
       "9712    9\n",
       "9713    6\n",
       "9714    6\n",
       "9715    4\n",
       "9716    9\n",
       "9717    1\n",
       "9718    8\n",
       "9719    7\n",
       "9720    6\n",
       "9721    1\n",
       "9722    8\n",
       "9723    1\n",
       "9724    0\n",
       "9725    3\n",
       "9726    2\n",
       "9727    4\n",
       "9728    4\n",
       "9729    1\n",
       "Name: Category_id, Length: 9730, dtype: int64"
      ]
     },
     "execution_count": 23,
     "metadata": {},
     "output_type": "execute_result"
    }
   ],
   "source": [
    "labels"
   ]
  },
  {
   "cell_type": "code",
   "execution_count": 24,
   "metadata": {},
   "outputs": [
    {
     "data": {
      "text/plain": [
       "<8930x7406 sparse matrix of type '<class 'numpy.int64'>'\n",
       "\twith 83796 stored elements in Compressed Sparse Row format>"
      ]
     },
     "execution_count": 24,
     "metadata": {},
     "output_type": "execute_result"
    }
   ],
   "source": [
    "X_train_count"
   ]
  },
  {
   "cell_type": "code",
   "execution_count": 25,
   "metadata": {},
   "outputs": [
    {
     "data": {
      "text/plain": [
       "<8930x7406 sparse matrix of type '<class 'numpy.float64'>'\n",
       "\twith 83796 stored elements in Compressed Sparse Row format>"
      ]
     },
     "execution_count": 25,
     "metadata": {},
     "output_type": "execute_result"
    }
   ],
   "source": [
    "X_train_tfidf"
   ]
  },
  {
   "cell_type": "code",
   "execution_count": 26,
   "metadata": {},
   "outputs": [
    {
     "data": {
      "text/plain": [
       "array(['Photography', 'Security Software', 'Security Software',\n",
       "       'Desktop Software', 'Networking Software', 'Video',\n",
       "       'Gaming Software', 'Photography', 'Desktop Software',\n",
       "       'Desktop Software', 'Communication', 'Photography',\n",
       "       'Internet Software', 'Utilities', 'Photography', 'Photography',\n",
       "       'Desktop Software', 'Gaming Software', 'Security Software',\n",
       "       'Development Software', 'Photography', 'Photography',\n",
       "       'Development Software', 'Development Software',\n",
       "       'Development Software', 'Photography', 'Browser',\n",
       "       'Desktop Software', 'Photography', 'Gaming Software',\n",
       "       'Photography', 'Development Software', 'Photography',\n",
       "       'Desktop Software', 'Photography', 'Internet Software', 'Video',\n",
       "       'Browser', 'Desktop Software', 'Photography', 'Photography',\n",
       "       'Photography', 'Internet Software', 'Photography', 'Video',\n",
       "       'Communication', 'Internet Software', 'Gaming Software',\n",
       "       'Development Software', 'Development Software', 'Utilities',\n",
       "       'Communication', 'Networking Software', 'Gaming Software',\n",
       "       'Photography', 'Networking Software', 'Utilities',\n",
       "       'Gaming Software', 'Video', 'Video', 'Networking Software',\n",
       "       'Photography', 'Photography', 'Photography', 'Gaming Software',\n",
       "       'Gaming Software', 'Photography', 'Security Software',\n",
       "       'Gaming Software', 'Desktop Software', 'Security Software',\n",
       "       'Desktop Software', 'Photography', 'Desktop Software',\n",
       "       'Gaming Software', 'Gaming Software', 'Video', 'Internet Software',\n",
       "       'Photography', 'Gaming Software', 'Gaming Software', 'Photography',\n",
       "       'Development Software', 'Browser', 'Development Software',\n",
       "       'Security Software', 'Video', 'Gaming Software', 'Photography',\n",
       "       'Development Software', 'Development Software', 'Gaming Software',\n",
       "       'Internet Software', 'Browser', 'Desktop Software',\n",
       "       'Communication', 'Gaming Software', 'Video', 'Communication',\n",
       "       'Development Software', 'Gaming Software', 'Browser', 'Video',\n",
       "       'Development Software', 'Utilities', 'Video', 'Internet Software',\n",
       "       'Internet Software', 'Desktop Software', 'Video',\n",
       "       'Gaming Software', 'Utilities', 'Photography', 'Video', 'Video',\n",
       "       'Development Software', 'Development Software', 'Gaming Software',\n",
       "       'Internet Software', 'Photography', 'Desktop Software',\n",
       "       'Desktop Software', 'Utilities', 'Internet Software',\n",
       "       'Photography', 'Security Software', 'Gaming Software',\n",
       "       'Communication', 'Video', 'Photography', 'Desktop Software',\n",
       "       'Internet Software', 'Development Software', 'Gaming Software',\n",
       "       'Development Software', 'Development Software', 'Desktop Software',\n",
       "       'Gaming Software', 'Photography', 'Development Software',\n",
       "       'Internet Software', 'Gaming Software', 'Browser',\n",
       "       'Gaming Software', 'Development Software', 'Video', 'Browser',\n",
       "       'Security Software', 'Video', 'Networking Software',\n",
       "       'Gaming Software', 'Video', 'Photography', 'Security Software',\n",
       "       'Networking Software', 'Security Software', 'Desktop Software',\n",
       "       'Photography', 'Internet Software', 'Communication', 'Photography',\n",
       "       'Internet Software', 'Internet Software', 'Photography', 'Video',\n",
       "       'Utilities', 'Video', 'Photography', 'Utilities',\n",
       "       'Internet Software', 'Gaming Software', 'Internet Software',\n",
       "       'Gaming Software', 'Desktop Software', 'Gaming Software',\n",
       "       'Internet Software', 'Utilities', 'Desktop Software',\n",
       "       'Communication', 'Browser', 'Video', 'Utilities',\n",
       "       'Internet Software', 'Video', 'Browser', 'Photography',\n",
       "       'Gaming Software', 'Gaming Software', 'Browser',\n",
       "       'Desktop Software', 'Desktop Software', 'Browser', 'Utilities',\n",
       "       'Internet Software', 'Photography', 'Photography',\n",
       "       'Gaming Software', 'Photography', 'Security Software',\n",
       "       'Development Software', 'Security Software', 'Video',\n",
       "       'Desktop Software', 'Gaming Software', 'Utilities',\n",
       "       'Gaming Software', 'Gaming Software', 'Development Software',\n",
       "       'Development Software', 'Desktop Software', 'Photography', 'Video',\n",
       "       'Photography', 'Desktop Software', 'Networking Software',\n",
       "       'Security Software', 'Communication', 'Security Software',\n",
       "       'Desktop Software', 'Gaming Software', 'Gaming Software',\n",
       "       'Utilities', 'Development Software', 'Desktop Software',\n",
       "       'Internet Software', 'Gaming Software', 'Development Software',\n",
       "       'Photography', 'Security Software', 'Photography', 'Photography',\n",
       "       'Video', 'Desktop Software', 'Browser', 'Communication',\n",
       "       'Photography', 'Photography', 'Photography', 'Video',\n",
       "       'Gaming Software', 'Video', 'Desktop Software', 'Utilities',\n",
       "       'Networking Software', 'Desktop Software', 'Video',\n",
       "       'Desktop Software', 'Development Software', 'Photography',\n",
       "       'Networking Software', 'Video', 'Gaming Software',\n",
       "       'Desktop Software', 'Browser', 'Communication', 'Desktop Software',\n",
       "       'Security Software', 'Photography', 'Gaming Software', 'Video',\n",
       "       'Video', 'Utilities', 'Video', 'Communication',\n",
       "       'Security Software', 'Desktop Software', 'Browser',\n",
       "       'Security Software', 'Video', 'Video', 'Photography',\n",
       "       'Photography', 'Video', 'Security Software', 'Gaming Software',\n",
       "       'Security Software', 'Video', 'Communication', 'Photography',\n",
       "       'Desktop Software', 'Communication', 'Photography', 'Photography',\n",
       "       'Internet Software', 'Gaming Software', 'Security Software',\n",
       "       'Photography', 'Development Software', 'Desktop Software',\n",
       "       'Communication', 'Desktop Software', 'Gaming Software',\n",
       "       'Gaming Software', 'Desktop Software', 'Utilities', 'Photography',\n",
       "       'Gaming Software', 'Video', 'Gaming Software', 'Browser',\n",
       "       'Desktop Software', 'Security Software', 'Gaming Software',\n",
       "       'Desktop Software', 'Gaming Software', 'Video', 'Browser',\n",
       "       'Networking Software', 'Gaming Software', 'Communication', 'Video',\n",
       "       'Development Software', 'Photography', 'Utilities', 'Photography',\n",
       "       'Communication', 'Gaming Software', 'Internet Software',\n",
       "       'Gaming Software', 'Video', 'Desktop Software', 'Browser',\n",
       "       'Desktop Software', 'Gaming Software', 'Development Software',\n",
       "       'Development Software', 'Communication', 'Development Software',\n",
       "       'Photography', 'Video', 'Networking Software', 'Photography',\n",
       "       'Internet Software', 'Gaming Software', 'Utilities',\n",
       "       'Development Software', 'Internet Software', 'Desktop Software',\n",
       "       'Browser', 'Photography', 'Security Software', 'Gaming Software',\n",
       "       'Internet Software', 'Video', 'Gaming Software', 'Photography',\n",
       "       'Gaming Software', 'Internet Software', 'Photography',\n",
       "       'Communication', 'Photography', 'Browser', 'Gaming Software',\n",
       "       'Browser', 'Gaming Software', 'Utilities', 'Desktop Software',\n",
       "       'Desktop Software', 'Desktop Software', 'Photography',\n",
       "       'Security Software', 'Development Software', 'Internet Software',\n",
       "       'Video', 'Utilities', 'Networking Software', 'Browser',\n",
       "       'Photography', 'Desktop Software', 'Video', 'Utilities',\n",
       "       'Gaming Software', 'Browser', 'Gaming Software', 'Utilities',\n",
       "       'Internet Software', 'Photography', 'Desktop Software',\n",
       "       'Security Software', 'Security Software', 'Gaming Software',\n",
       "       'Desktop Software', 'Desktop Software', 'Gaming Software',\n",
       "       'Photography', 'Photography', 'Gaming Software', 'Browser',\n",
       "       'Development Software', 'Gaming Software', 'Browser',\n",
       "       'Desktop Software', 'Communication', 'Photography',\n",
       "       'Desktop Software', 'Video', 'Gaming Software',\n",
       "       'Internet Software', 'Gaming Software', 'Security Software',\n",
       "       'Development Software', 'Photography', 'Development Software',\n",
       "       'Photography', 'Photography', 'Photography',\n",
       "       'Development Software', 'Development Software', 'Gaming Software',\n",
       "       'Video', 'Utilities', 'Photography', 'Utilities',\n",
       "       'Gaming Software', 'Desktop Software', 'Video', 'Browser',\n",
       "       'Photography', 'Development Software', 'Internet Software',\n",
       "       'Security Software', 'Desktop Software', 'Security Software',\n",
       "       'Internet Software', 'Development Software', 'Communication',\n",
       "       'Development Software', 'Communication', 'Internet Software',\n",
       "       'Desktop Software', 'Internet Software', 'Browser',\n",
       "       'Desktop Software', 'Gaming Software', 'Internet Software',\n",
       "       'Browser', 'Gaming Software', 'Photography', 'Video',\n",
       "       'Gaming Software', 'Gaming Software', 'Photography',\n",
       "       'Gaming Software', 'Desktop Software', 'Photography', 'Browser',\n",
       "       'Video', 'Photography', 'Desktop Software', 'Internet Software',\n",
       "       'Gaming Software', 'Video', 'Photography', 'Browser', 'Video',\n",
       "       'Security Software', 'Gaming Software', 'Development Software',\n",
       "       'Photography', 'Photography', 'Desktop Software',\n",
       "       'Networking Software', 'Photography', 'Browser',\n",
       "       'Security Software', 'Desktop Software', 'Gaming Software',\n",
       "       'Browser', 'Security Software', 'Security Software',\n",
       "       'Gaming Software', 'Gaming Software', 'Desktop Software',\n",
       "       'Security Software', 'Development Software', 'Internet Software',\n",
       "       'Internet Software', 'Gaming Software', 'Photography',\n",
       "       'Photography', 'Internet Software', 'Photography', 'Video',\n",
       "       'Photography', 'Internet Software', 'Desktop Software',\n",
       "       'Gaming Software', 'Desktop Software', 'Security Software',\n",
       "       'Photography', 'Utilities', 'Development Software',\n",
       "       'Gaming Software', 'Gaming Software', 'Photography', 'Browser',\n",
       "       'Networking Software', 'Security Software', 'Gaming Software',\n",
       "       'Gaming Software', 'Gaming Software', 'Internet Software',\n",
       "       'Desktop Software', 'Photography', 'Communication',\n",
       "       'Gaming Software', 'Browser', 'Gaming Software',\n",
       "       'Development Software', 'Photography', 'Desktop Software',\n",
       "       'Gaming Software', 'Internet Software', 'Photography',\n",
       "       'Photography', 'Utilities', 'Internet Software', 'Photography',\n",
       "       'Security Software', 'Gaming Software', 'Utilities', 'Photography',\n",
       "       'Gaming Software', 'Photography', 'Security Software', 'Video',\n",
       "       'Development Software', 'Development Software', 'Desktop Software',\n",
       "       'Development Software', 'Networking Software',\n",
       "       'Networking Software', 'Desktop Software', 'Video',\n",
       "       'Desktop Software', 'Gaming Software', 'Internet Software',\n",
       "       'Browser', 'Security Software', 'Internet Software',\n",
       "       'Gaming Software', 'Browser', 'Development Software',\n",
       "       'Photography', 'Networking Software', 'Security Software',\n",
       "       'Security Software', 'Video', 'Gaming Software',\n",
       "       'Internet Software', 'Security Software', 'Gaming Software',\n",
       "       'Photography', 'Desktop Software', 'Desktop Software',\n",
       "       'Desktop Software', 'Communication', 'Internet Software',\n",
       "       'Desktop Software', 'Video', 'Security Software', 'Video',\n",
       "       'Gaming Software', 'Photography', 'Photography', 'Gaming Software',\n",
       "       'Networking Software', 'Internet Software', 'Photography',\n",
       "       'Security Software', 'Gaming Software', 'Video', 'Gaming Software',\n",
       "       'Development Software', 'Development Software',\n",
       "       'Development Software', 'Photography', 'Photography',\n",
       "       'Photography', 'Internet Software', 'Desktop Software',\n",
       "       'Gaming Software', 'Desktop Software', 'Security Software',\n",
       "       'Gaming Software', 'Gaming Software', 'Desktop Software',\n",
       "       'Gaming Software', 'Development Software', 'Gaming Software',\n",
       "       'Desktop Software', 'Video', 'Photography', 'Development Software',\n",
       "       'Networking Software', 'Communication', 'Internet Software',\n",
       "       'Utilities', 'Desktop Software', 'Photography', 'Browser',\n",
       "       'Security Software', 'Photography', 'Communication',\n",
       "       'Development Software', 'Video', 'Desktop Software',\n",
       "       'Gaming Software', 'Photography', 'Security Software',\n",
       "       'Gaming Software', 'Development Software', 'Photography',\n",
       "       'Photography', 'Communication', 'Video', 'Desktop Software',\n",
       "       'Photography', 'Gaming Software', 'Desktop Software', 'Video',\n",
       "       'Photography', 'Utilities', 'Photography', 'Gaming Software',\n",
       "       'Photography', 'Video', 'Photography', 'Photography',\n",
       "       'Gaming Software', 'Photography', 'Internet Software',\n",
       "       'Development Software', 'Video', 'Desktop Software',\n",
       "       'Gaming Software', 'Photography', 'Photography', 'Photography',\n",
       "       'Security Software', 'Desktop Software', 'Security Software',\n",
       "       'Gaming Software', 'Internet Software', 'Development Software',\n",
       "       'Development Software', 'Security Software', 'Photography',\n",
       "       'Security Software', 'Browser', 'Gaming Software', 'Photography',\n",
       "       'Gaming Software', 'Gaming Software', 'Photography',\n",
       "       'Desktop Software', 'Browser', 'Desktop Software',\n",
       "       'Desktop Software', 'Development Software', 'Browser',\n",
       "       'Communication', 'Photography', 'Gaming Software', 'Video',\n",
       "       'Photography', 'Desktop Software', 'Internet Software',\n",
       "       'Gaming Software', 'Desktop Software', 'Gaming Software',\n",
       "       'Gaming Software', 'Utilities', 'Communication', 'Gaming Software',\n",
       "       'Browser', 'Internet Software', 'Security Software', 'Photography',\n",
       "       'Internet Software', 'Photography', 'Utilities',\n",
       "       'Desktop Software', 'Gaming Software', 'Security Software',\n",
       "       'Security Software', 'Internet Software', 'Photography',\n",
       "       'Gaming Software', 'Desktop Software', 'Gaming Software',\n",
       "       'Security Software', 'Browser', 'Desktop Software',\n",
       "       'Development Software', 'Security Software', 'Desktop Software',\n",
       "       'Desktop Software', 'Video', 'Security Software',\n",
       "       'Networking Software', 'Desktop Software', 'Desktop Software',\n",
       "       'Photography', 'Utilities', 'Networking Software', 'Photography',\n",
       "       'Photography', 'Gaming Software', 'Photography', 'Gaming Software',\n",
       "       'Networking Software', 'Photography', 'Internet Software',\n",
       "       'Photography', 'Internet Software', 'Gaming Software',\n",
       "       'Networking Software', 'Desktop Software', 'Security Software',\n",
       "       'Utilities', 'Security Software', 'Communication', 'Video',\n",
       "       'Security Software', 'Gaming Software', 'Development Software',\n",
       "       'Video', 'Communication', 'Photography', 'Photography',\n",
       "       'Security Software', 'Security Software', 'Photography',\n",
       "       'Photography', 'Communication', 'Photography', 'Video', 'Browser',\n",
       "       'Photography', 'Desktop Software', 'Internet Software', 'Browser',\n",
       "       'Utilities', 'Photography', 'Development Software',\n",
       "       'Internet Software', 'Desktop Software', 'Internet Software',\n",
       "       'Communication', 'Video', 'Security Software',\n",
       "       'Development Software', 'Photography', 'Security Software',\n",
       "       'Browser', 'Desktop Software', 'Security Software',\n",
       "       'Development Software', 'Photography', 'Gaming Software',\n",
       "       'Internet Software', 'Development Software',\n",
       "       'Development Software', 'Security Software', 'Video',\n",
       "       'Gaming Software', 'Communication', 'Desktop Software',\n",
       "       'Desktop Software', 'Networking Software', 'Photography',\n",
       "       'Security Software', 'Photography', 'Desktop Software',\n",
       "       'Communication', 'Networking Software', 'Desktop Software',\n",
       "       'Development Software', 'Photography', 'Communication',\n",
       "       'Gaming Software', 'Video', 'Desktop Software', 'Desktop Software',\n",
       "       'Photography', 'Security Software', 'Development Software',\n",
       "       'Photography', 'Gaming Software', 'Video', 'Gaming Software',\n",
       "       'Internet Software', 'Photography', 'Desktop Software',\n",
       "       'Photography', 'Security Software', 'Desktop Software',\n",
       "       'Photography', 'Gaming Software'], dtype=object)"
      ]
     },
     "execution_count": 26,
     "metadata": {},
     "output_type": "execute_result"
    }
   ],
   "source": [
    "y_pred"
   ]
  },
  {
   "cell_type": "code",
   "execution_count": null,
   "metadata": {},
   "outputs": [],
   "source": []
  }
 ],
 "metadata": {
  "kernelspec": {
   "display_name": "Python 3",
   "language": "python",
   "name": "python3"
  },
  "language_info": {
   "codemirror_mode": {
    "name": "ipython",
    "version": 3
   },
   "file_extension": ".py",
   "mimetype": "text/x-python",
   "name": "python",
   "nbconvert_exporter": "python",
   "pygments_lexer": "ipython3",
   "version": "3.7.1"
  }
 },
 "nbformat": 4,
 "nbformat_minor": 2
}
